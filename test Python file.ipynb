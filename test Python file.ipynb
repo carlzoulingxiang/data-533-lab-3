{
 "cells": [
  {
   "cell_type": "code",
   "execution_count": 11,
   "id": "c754010f-040e-4da5-93c4-5e96d9032f9e",
   "metadata": {},
   "outputs": [],
   "source": [
    "from arraytools.numarraytools import NumArraySortTool as numsort\n",
    "from arraytools.numarraytools import NumArraySearchTool as numst"
   ]
  },
  {
   "cell_type": "code",
   "execution_count": 13,
   "id": "dba00861-be95-44d9-be3f-d3c8f8c06cc6",
   "metadata": {},
   "outputs": [],
   "source": [
    "class A:\n",
    "    id=50;\n",
    "    def __init__(self,name,age):\n",
    "        self.name=name\n",
    "        self.age=age\n",
    "        A.id+=1\n",
    "obj1=A(\"A\",18)\n"
   ]
  },
  {
   "cell_type": "code",
   "execution_count": 14,
   "id": "9e8b0080-b390-40da-afe2-bb0b28f8b8de",
   "metadata": {},
   "outputs": [
    {
     "name": "stdout",
     "output_type": "stream",
     "text": [
      "52\n"
     ]
    }
   ],
   "source": [
    "obj2=A(\"B\",19)\n",
    "print(A.id)"
   ]
  },
  {
   "cell_type": "code",
   "execution_count": 15,
   "id": "3c8e27cb-09ae-40f0-8afe-09a8aa91a596",
   "metadata": {},
   "outputs": [
    {
     "name": "stdout",
     "output_type": "stream",
     "text": [
      "150\n"
     ]
    }
   ],
   "source": [
    "class A:\n",
    "    def __init__(self,val):\n",
    "        self.val=val\n",
    "        val=100\n",
    "obj=A(150)\n",
    "print(obj.val)"
   ]
  },
  {
   "cell_type": "code",
   "execution_count": 16,
   "id": "ddd333ff-e1fb-4d51-acb1-bf12a2119e99",
   "metadata": {},
   "outputs": [
    {
     "name": "stdout",
     "output_type": "stream",
     "text": [
      "A method 1\n"
     ]
    }
   ],
   "source": [
    "class A:\n",
    "    def method1(self):\n",
    "        return \"A method 1\"\n",
    "    def method2(self):\n",
    "        return \"A mehtod 2\"\n",
    "class B(A):\n",
    "    def method2(self):\n",
    "        return \"B method1\"\n",
    "obj=B()\n",
    "print(obj.method1())"
   ]
  },
  {
   "cell_type": "code",
   "execution_count": 17,
   "id": "a7c2598c-8077-490d-ae90-1d2ba485ef81",
   "metadata": {},
   "outputs": [
    {
     "name": "stdout",
     "output_type": "stream",
     "text": [
      "1 2\n"
     ]
    }
   ],
   "source": [
    "class C1(object):\n",
    "    def __init__(self):\n",
    "        self.i=1\n",
    "        self.j=1\n",
    "class C2(object):\n",
    "    def __init__(self):\n",
    "        self.i=2\n",
    "        self.j=2\n",
    "a=C1()\n",
    "b=C2()\n",
    "print(a.i, b.j)"
   ]
  },
  {
   "cell_type": "code",
   "execution_count": 18,
   "id": "c2a23c92-d3e3-4fd0-b5f8-ed464525a0de",
   "metadata": {},
   "outputs": [
    {
     "name": "stdout",
     "output_type": "stream",
     "text": [
      "2 2\n"
     ]
    }
   ],
   "source": [
    "class A:\n",
    "    def __init__(self, x=0, y=0):\n",
    "        self.x=x\n",
    "        self.y=y\n",
    "    def __sub__(self,other):\n",
    "        x=self.x-other.x\n",
    "        y=self.y-other.y\n",
    "        return A(x,y)\n",
    "p1=A(3)\n",
    "p2=A(1,-2)\n",
    "result = p1-p2\n",
    "print(result.x,result.y)"
   ]
  },
  {
   "cell_type": "code",
   "execution_count": 19,
   "id": "67d33c47-b87b-40ba-b90f-497259af159e",
   "metadata": {},
   "outputs": [],
   "source": [
    "class A:\n",
    "\n",
    "    def __init__(self, name):\n",
    "        self.name = name\n",
    "\n",
    "    def display(self):\n",
    "        return self.name\n",
    "    \n",
    "obj = A(\"Alex\")\n",
    "\n"
   ]
  },
  {
   "cell_type": "code",
   "execution_count": 20,
   "id": "f57c146f-5330-471d-aa20-0960ee6ff2c3",
   "metadata": {},
   "outputs": [
    {
     "data": {
      "text/plain": [
       "'Alex'"
      ]
     },
     "execution_count": 20,
     "metadata": {},
     "output_type": "execute_result"
    }
   ],
   "source": [
    "A.display(obj)"
   ]
  },
  {
   "cell_type": "code",
   "execution_count": 21,
   "id": "8eb451b4-36ff-483e-b748-62e73145b3c2",
   "metadata": {},
   "outputs": [
    {
     "data": {
      "text/plain": [
       "'Alex'"
      ]
     },
     "execution_count": 21,
     "metadata": {},
     "output_type": "execute_result"
    }
   ],
   "source": [
    "obj.display()"
   ]
  },
  {
   "cell_type": "code",
   "execution_count": 23,
   "id": "aadd10c7-0a13-45db-bb5e-78cf5907414b",
   "metadata": {},
   "outputs": [
    {
     "ename": "ModuleNotFoundError",
     "evalue": "No module named 'module1'",
     "output_type": "error",
     "traceback": [
      "\u001b[0;31m---------------------------------------------------------------------------\u001b[0m",
      "\u001b[0;31mModuleNotFoundError\u001b[0m                       Traceback (most recent call last)",
      "\u001b[0;32m/var/folders/37/q5159fb14k90rc41kpn69yth0000gn/T/ipykernel_19456/1880792895.py\u001b[0m in \u001b[0;36m<module>\u001b[0;34m\u001b[0m\n\u001b[0;32m----> 1\u001b[0;31m \u001b[0;32mimport\u001b[0m \u001b[0mmodule1\u001b[0m\u001b[0;34m\u001b[0m\u001b[0;34m\u001b[0m\u001b[0m\n\u001b[0m\u001b[1;32m      2\u001b[0m \u001b[0;32mimport\u001b[0m \u001b[0mmodule2\u001b[0m\u001b[0;34m\u001b[0m\u001b[0;34m\u001b[0m\u001b[0m\n\u001b[1;32m      3\u001b[0m \u001b[0;32mdef\u001b[0m \u001b[0mdisplay\u001b[0m\u001b[0;34m(\u001b[0m\u001b[0;34m)\u001b[0m\u001b[0;34m:\u001b[0m\u001b[0;34m\u001b[0m\u001b[0;34m\u001b[0m\u001b[0m\n\u001b[1;32m      4\u001b[0m     \u001b[0mprint\u001b[0m\u001b[0;34m(\u001b[0m\u001b[0;34m\"E\"\u001b[0m\u001b[0;34m)\u001b[0m\u001b[0;34m\u001b[0m\u001b[0;34m\u001b[0m\u001b[0m\n\u001b[1;32m      5\u001b[0m \u001b[0mdisplay\u001b[0m\u001b[0;34m(\u001b[0m\u001b[0;34m)\u001b[0m\u001b[0;34m\u001b[0m\u001b[0;34m\u001b[0m\u001b[0m\n",
      "\u001b[0;31mModuleNotFoundError\u001b[0m: No module named 'module1'"
     ]
    }
   ],
   "source": [
    "import module1\n",
    "import module2\n",
    "def display():\n",
    "    print(\"E\")\n",
    "display()"
   ]
  },
  {
   "cell_type": "code",
   "execution_count": null,
   "id": "d6e316e1-38ea-46a8-b679-c14dc05f2863",
   "metadata": {},
   "outputs": [],
   "source": []
  }
 ],
 "metadata": {
  "kernelspec": {
   "display_name": "Python 3 (ipykernel)",
   "language": "python",
   "name": "python3"
  },
  "language_info": {
   "codemirror_mode": {
    "name": "ipython",
    "version": 3
   },
   "file_extension": ".py",
   "mimetype": "text/x-python",
   "name": "python",
   "nbconvert_exporter": "python",
   "pygments_lexer": "ipython3",
   "version": "3.9.5"
  }
 },
 "nbformat": 4,
 "nbformat_minor": 5
}
